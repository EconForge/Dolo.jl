{
 "cells": [
  {
   "cell_type": "markdown",
   "metadata": {},
   "source": [
    "To get the arbitrage equation : \n",
    "\n",
    "$$ max \\sum_{s=0}^{\\infty} (\\frac{1}{1+r})^s D_{t+s} $$\n",
    "\n",
    "s.t.\n",
    "\n",
    "$$ D_t = F(K_t) -pC(I_t,K_t) $$\n",
    "$$ K_{t+1} = I_t + (1- \\delta)K_t $$"
   ]
  },
  {
   "cell_type": "markdown",
   "metadata": {},
   "source": [
    "$$ \\mathcal L = max \\sum_{s=0}^{\\infty} (\\frac{1}{1+r})^s (F(K_{t+s}) - pC(I_{t+s},K_{t+s}) + \\lambda_{t+s} (K_{t+1+s} - I_{t+s} - (1- \\delta) K_{t+s}))$$"
   ]
  },
  {
   "cell_type": "markdown",
   "metadata": {},
   "source": [
    "The FOC are then :"
   ]
  },
  {
   "cell_type": "markdown",
   "metadata": {},
   "source": [
    "$$ F'(t) - pC_2(I_t, K_t) - \\lambda_t (1- \\delta) + \\lambda_{t-1}(1+r) = 0$$\n",
    "$$ -pC_1(I_t, K_t) -  \\lambda_t = 0 $$"
   ]
  },
  {
   "cell_type": "markdown",
   "metadata": {},
   "source": [
    "Thus :\n",
    "\n",
    "$$ \\lambda_t = -pC_1(I_t, K_t) $$\n",
    "\n",
    "$$ 0 =  F'(t) - pC_2(I_t, K_t) + pC_1(I_t, K_t)(1- \\delta) - pC_1(I_{t-1}, K_{t-1})(1+r) $$"
   ]
  },
  {
   "cell_type": "markdown",
   "metadata": {},
   "source": [
    "Then, if :\n",
    "\n",
    "$$ F(K) = zK $$\n",
    "$$p_t =1$$ \n",
    " $$ C(I,K) = I + \\frac{1}{2} I^2 $$"
   ]
  },
  {
   "cell_type": "markdown",
   "metadata": {},
   "source": [
    "We have :\n",
    "$$ 0 = z + p(1+I_t)(1-\\delta) - p(1+I_{t-1})(1+r)$$"
   ]
  },
  {
   "cell_type": "markdown",
   "metadata": {},
   "source": [
    "The constraint on the investment is :\n",
    "\n",
    "$$ I + C(I,K) ≤ F(K) $$\n",
    "\n",
    "Here :\n",
    "\n",
    "$$ I + (I+\\frac{1}{2} I^2) ≤ zK $$\n",
    "\n",
    "Thus :\n",
    "\n",
    "$$ I^2 + 4I - 2zK ≤ 0$$"
   ]
  },
  {
   "cell_type": "markdown",
   "metadata": {},
   "source": [
    "Looking for the roots of the polynomial :\n",
    "\n",
    "$$ I_{12} = \\frac{-4 \\pm \\sqrt{16+8zK}}{2} = -2 \\mp \\sqrt{4+2zK} $$"
   ]
  },
  {
   "cell_type": "markdown",
   "metadata": {},
   "source": [
    "To find the domain on which to look to see this constraint being binding, we must find the limit on $K$ that allows this constraint to be binding. To do that, we can evaluate the $I$ reached when the constraint stops being binding : \n",
    "$$I_{SS} = \\frac{z}{p(\\delta +r)} = 0.38$$"
   ]
  },
  {
   "cell_type": "markdown",
   "metadata": {},
   "source": [
    "$$-2 + \\sqrt{4+2zK} = 0.38 $$\n",
    "\n",
    "Thus, with  $z = 0.45$ :\n",
    "\n",
    "$$K_{end \\; of \\; binding} = 1.9$$"
   ]
  },
  {
   "cell_type": "markdown",
   "metadata": {},
   "source": [
    "We take $s0 = 0.5 < 1.9$, and as domain : $[K.0.025, K*1.01]$ because $K_{SS} = \\frac{I_{SS}}{\\delta} = 15$, and $15*0.025 < s0$. We take also $n=900$ points on the grid to get about 6 points every 0.1 step."
   ]
  }
 ],
 "metadata": {
  "language_info": {
   "name": "python"
  },
  "orig_nbformat": 4
 },
 "nbformat": 4,
 "nbformat_minor": 2
}
