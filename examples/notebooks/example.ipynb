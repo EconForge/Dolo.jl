{
 "cells": [
  {
   "cell_type": "code",
   "execution_count": 172,
   "metadata": {},
   "outputs": [
    {
     "data": {
      "text/plain": [
       "old (generic function with 2 methods)"
      ]
     },
     "metadata": {},
     "output_type": "display_data"
    }
   ],
   "source": [
    "function old(x::Int)\n",
    "    print(\"Old behavior\")\n",
    "end\n",
    "\n",
    "function new(x::Int)\n",
    "    print(\"New behavior\")\n",
    "end\n",
    "\n",
    "# Adding true/false argument doesn't change my observations.\n",
    "@deprecate old(x::Int) new(x::Int) false"
   ]
  },
  {
   "cell_type": "code",
   "execution_count": 173,
   "metadata": {},
   "outputs": [
    {
     "name": "stdout",
     "output_type": "stream",
     "text": [
      "New behavior"
     ]
    }
   ],
   "source": [
    "old(2)"
   ]
  },
  {
   "cell_type": "code",
   "execution_count": null,
   "metadata": {},
   "outputs": [],
   "source": [
    "function my_trembling_hand_v3!(A, x, w::Float64) \n",
    "    \n",
    "    shape_A = size(A)\n",
    "    δ = @SVector [1.0./(shape_A[1+i]-1) for i = 1:(length(shape_A)-1)]\n",
    "\n",
    "\n",
    "    for n in 1:shape_A[1]\n",
    "\n",
    "        xn = x[n]\n",
    "        xn = min.(max.(xn, 0.0),1.0)\n",
    "        qn = div.(xn, δ)\n",
    "        qn = max.(0, qn)\n",
    "        qn = min.(qn, shape_A[2:].-2)\n",
    "        λn = (xn./δ.-qn) # ∈[0,1[ by construction\n",
    "        qn_ = round.(Int,qn) + 1\n",
    "\n",
    "            q0_, q1_ = qn_[1], qn_[2]\n",
    "            λ0, λ1  = λn[1], λn[2]\n",
    "            A[n, q0_ ,  q1_] += (1-λ0)*(1-λ1)*w\n",
    "            A[n, q0_+1, q1_] += λ0*(1-λ1)*w\n",
    "            A[n, q0_, q1_+1] += (1-λ0)*λ1*w\n",
    "            A[n, q0_+1, q1_+1] += λ0*λ1*w\n",
    "        \n",
    "    end\n",
    "\n",
    "end"
   ]
  },
  {
   "cell_type": "code",
   "execution_count": 41,
   "metadata": {},
   "outputs": [
    {
     "data": {
      "text/plain": [
       "trembling_hand! (generic function with 1 method)"
      ]
     },
     "metadata": {},
     "output_type": "display_data"
    }
   ],
   "source": [
    "function trembling_hand!(A::AbstractArray{Float64,2}, x, w)\n",
    "    N,n0 = size(A)\n",
    "    δ0 = 1.0./(n0-1.0)\n",
    "    for n in 1:N\n",
    "        x0 = x[n][1]\n",
    "        x0 = min.(max.(x0, 0.0),1.0)\n",
    "        q0 = div.(x0, δ0)\n",
    "        q0 = max.(0, q0)\n",
    "        q0 = min.(q0, n0-2)\n",
    "        λ0 = (x0./δ0-q0) # ∈[0,1[ by construction\n",
    "        q0_ = round.(Int,q0) + 1\n",
    "        A[n, q0_]   += (1-λ0)*w\n",
    "        A[n, q0_+1] += λ0*w\n",
    "    end\n",
    "end"
   ]
  },
  {
   "cell_type": "code",
   "execution_count": 38,
   "metadata": {},
   "outputs": [
    {
     "ename": "MethodError",
     "evalue": "MethodError: no method matching my_trembling_hand_v1!(::Matrix{Float64}, ::Vector{SVector{2, Float64}}, ::Int64)\nClosest candidates are:\n  my_trembling_hand_v1!(::Any, ::Array{SVector{d, Float64}, 1}, !Matched::Float64) where d at /Users/gabriellequeran/.julia/dev/Dolo/src/algos/ergodic.jl:164",
     "output_type": "error",
     "traceback": [
      "\n",
      "Stacktrace:\n",
      "  [1] top-level scope\n",
      "    @ ~/.julia/dev/Dolo/examples/notebooks/example.ipynb:7\n",
      "  [2] eval\n",
      "    @ ./boot.jl:360 [inlined]\n",
      "  [3] include_string(mapexpr::typeof(REPL.softscope), mod::Module, code::String, filename::String)\n",
      "    @ Base ./loading.jl:1116\n",
      "  [4] #invokelatest#2\n",
      "    @ ./essentials.jl:708 [inlined]\n",
      "  [5] invokelatest\n",
      "    @ ./essentials.jl:706 [inlined]\n",
      "  [6] (::VSCodeServer.var\"#98#99\"{VSCodeServer.NotebookRunCellArguments, String})()\n",
      "    @ VSCodeServer ~/.vscode/extensions/julialang.language-julia-1.4.3/scripts/packages/VSCodeServer/src/serve_notebook.jl:18\n",
      "  [7] withpath(f::VSCodeServer.var\"#98#99\"{VSCodeServer.NotebookRunCellArguments, String}, path::String)\n",
      "    @ VSCodeServer ~/.vscode/extensions/julialang.language-julia-1.4.3/scripts/packages/VSCodeServer/src/repl.jl:185\n",
      "  [8] notebook_runcell_request(conn::VSCodeServer.JSONRPC.JSONRPCEndpoint{Base.PipeEndpoint, Base.PipeEndpoint}, params::VSCodeServer.NotebookRunCellArguments)\n",
      "    @ VSCodeServer ~/.vscode/extensions/julialang.language-julia-1.4.3/scripts/packages/VSCodeServer/src/serve_notebook.jl:14\n",
      "  [9] dispatch_msg(x::VSCodeServer.JSONRPC.JSONRPCEndpoint{Base.PipeEndpoint, Base.PipeEndpoint}, dispatcher::VSCodeServer.JSONRPC.MsgDispatcher, msg::Dict{String, Any})\n",
      "    @ VSCodeServer.JSONRPC ~/.vscode/extensions/julialang.language-julia-1.4.3/scripts/packages/JSONRPC/src/typed.jl:67\n",
      " [10] serve_notebook(pipename::String; crashreporting_pipename::String)\n",
      "    @ VSCodeServer ~/.vscode/extensions/julialang.language-julia-1.4.3/scripts/packages/VSCodeServer/src/serve_notebook.jl:94\n",
      " [11] top-level scope\n",
      "    @ ~/.vscode/extensions/julialang.language-julia-1.4.3/scripts/notebook/notebook.jl:10\n",
      " [12] include(mod::Module, _path::String)\n",
      "    @ Base ./Base.jl:386\n",
      " [13] exec_options(opts::Base.JLOptions)\n",
      "    @ Base ./client.jl:285\n",
      " [14] _start()\n",
      "    @ Base ./client.jl:485"
     ]
    }
   ],
   "source": [
    "using StaticArrays\n",
    "#using Dolo\n",
    "A = Array{Float64,2}(undef, 2, 3)\n",
    "print(A)\n",
    "x = [SVector{2,Float64}(3.4,4.7),SVector{2,Float64}(2.6,4.2)]\n",
    "w =1\n",
    "Dolo.my_trembling_hand_v1!(A,x,w)"
   ]
  },
  {
   "cell_type": "code",
   "execution_count": 71,
   "metadata": {},
   "outputs": [
    {
     "ename": "UndefVarError",
     "evalue": "UndefVarError: Point not defined",
     "output_type": "error",
     "traceback": [
      "\n",
      "Stacktrace:\n",
      "  [1] top-level scope\n",
      "    @ ~/.julia/dev/Dolo/examples/notebooks/example.ipynb:1\n",
      "  [2] eval\n",
      "    @ ./boot.jl:360 [inlined]\n",
      "  [3] include_string(mapexpr::typeof(REPL.softscope), mod::Module, code::String, filename::String)\n",
      "    @ Base ./loading.jl:1116\n",
      "  [4] #invokelatest#2\n",
      "    @ ./essentials.jl:708 [inlined]\n",
      "  [5] invokelatest\n",
      "    @ ./essentials.jl:706 [inlined]\n",
      "  [6] (::VSCodeServer.var\"#98#99\"{VSCodeServer.NotebookRunCellArguments, String})()\n",
      "    @ VSCodeServer ~/.vscode/extensions/julialang.language-julia-1.4.3/scripts/packages/VSCodeServer/src/serve_notebook.jl:18\n",
      "  [7] withpath(f::VSCodeServer.var\"#98#99\"{VSCodeServer.NotebookRunCellArguments, String}, path::String)\n",
      "    @ VSCodeServer ~/.vscode/extensions/julialang.language-julia-1.4.3/scripts/packages/VSCodeServer/src/repl.jl:185\n",
      "  [8] notebook_runcell_request(conn::VSCodeServer.JSONRPC.JSONRPCEndpoint{Base.PipeEndpoint, Base.PipeEndpoint}, params::VSCodeServer.NotebookRunCellArguments)\n",
      "    @ VSCodeServer ~/.vscode/extensions/julialang.language-julia-1.4.3/scripts/packages/VSCodeServer/src/serve_notebook.jl:14\n",
      "  [9] dispatch_msg(x::VSCodeServer.JSONRPC.JSONRPCEndpoint{Base.PipeEndpoint, Base.PipeEndpoint}, dispatcher::VSCodeServer.JSONRPC.MsgDispatcher, msg::Dict{String, Any})\n",
      "    @ VSCodeServer.JSONRPC ~/.vscode/extensions/julialang.language-julia-1.4.3/scripts/packages/JSONRPC/src/typed.jl:67\n",
      " [10] serve_notebook(pipename::String; crashreporting_pipename::String)\n",
      "    @ VSCodeServer ~/.vscode/extensions/julialang.language-julia-1.4.3/scripts/packages/VSCodeServer/src/serve_notebook.jl:94\n",
      " [11] top-level scope\n",
      "    @ ~/.vscode/extensions/julialang.language-julia-1.4.3/scripts/notebook/notebook.jl:10\n",
      " [12] include(mod::Module, _path::String)\n",
      "    @ Base ./Base.jl:386\n",
      " [13] exec_options(opts::Base.JLOptions)\n",
      "    @ Base ./client.jl:285\n",
      " [14] _start()\n",
      "    @ Base ./client.jl:485"
     ]
    }
   ],
   "source": [
    "function my_trembling_hand_v1!(A, x::Vector{Point{d}}, w::Float64) where d\n",
    "\n",
    "    if d==1\n",
    "        N,n0 = size(A)\n",
    "        δ0 = 1.0./(n0-1.0)\n",
    "        for n in 1:N\n",
    "            x0 = x[n][1]\n",
    "            x0 = min.(max.(x0, 0.0),1.0)\n",
    "            q0 = div.(x0, δ0)\n",
    "            q0 = max.(0, q0)\n",
    "            q0 = min.(q0, n0-2)\n",
    "            λ0 = (x0./δ0-q0) # ∈[0,1[ by construction\n",
    "            q0_ = round.(Int,q0) + 1\n",
    "            A[n, q0_]   += (1-λ0)*w\n",
    "            A[n, q0_+1] += λ0*w\n",
    "        end\n",
    "    end\n",
    "\n",
    "    if d==2\n",
    "        N,n0,n1 = size(A)\n",
    "        δ0 = 1.0./(n0-1.0)\n",
    "        δ1 = 1.0./(n1-1.0)\n",
    "        for n in 1:N\n",
    "            x0 = x[n][1]\n",
    "            x0 = min.(max.(x0, 0.0),1.0)\n",
    "            q0 = div.(x0, δ0)\n",
    "            q0 = max.(0, q0)\n",
    "            q0 = min.(q0, n0-2)\n",
    "            λ0 = (x0./δ0-q0) # ∈[0,1[ by construction\n",
    "            q0_ = round.(Int,q0) + 1\n",
    "\n",
    "            x1 = x[n][2]\n",
    "            x1 = min.(max.(x1, 0.0),1.0)\n",
    "            q1 = div.(x1, δ1)\n",
    "            q1 = max.(0, q1)\n",
    "            q1 = min.(q1, n1-2)\n",
    "            λ1 = (x1./δ1-q1) # ∈[0,1[ by construction\n",
    "            q1_ = round.(Int,q1) + 1\n",
    "\n",
    "            A[n, q0_ ,  q1_] += (1-λ0)*(1-λ1)*w\n",
    "            A[n, q0_+1, q1_] += λ0*(1-λ1)*w\n",
    "            A[n, q0_, q1_+1] += (1-λ0)*λ1*w\n",
    "            A[n, q0_+1, q1_+1] += λ0*λ1*w\n",
    "        end\n",
    "    end\n",
    "\n",
    "end"
   ]
  },
  {
   "cell_type": "code",
   "execution_count": 64,
   "metadata": {},
   "outputs": [
    {
     "ename": "UndefVarError",
     "evalue": "UndefVarError: Point not defined",
     "output_type": "error",
     "traceback": [
      "\n",
      "Stacktrace:\n",
      "  [1] top-level scope\n",
      "    @ ~/.julia/dev/Dolo/examples/notebooks/example.ipynb:1\n",
      "  [2] eval\n",
      "    @ ./boot.jl:360 [inlined]\n",
      "  [3] include_string(mapexpr::typeof(REPL.softscope), mod::Module, code::String, filename::String)\n",
      "    @ Base ./loading.jl:1116\n",
      "  [4] #invokelatest#2\n",
      "    @ ./essentials.jl:708 [inlined]\n",
      "  [5] invokelatest\n",
      "    @ ./essentials.jl:706 [inlined]\n",
      "  [6] (::VSCodeServer.var\"#98#99\"{VSCodeServer.NotebookRunCellArguments, String})()\n",
      "    @ VSCodeServer ~/.vscode/extensions/julialang.language-julia-1.4.3/scripts/packages/VSCodeServer/src/serve_notebook.jl:18\n",
      "  [7] withpath(f::VSCodeServer.var\"#98#99\"{VSCodeServer.NotebookRunCellArguments, String}, path::String)\n",
      "    @ VSCodeServer ~/.vscode/extensions/julialang.language-julia-1.4.3/scripts/packages/VSCodeServer/src/repl.jl:185\n",
      "  [8] notebook_runcell_request(conn::VSCodeServer.JSONRPC.JSONRPCEndpoint{Base.PipeEndpoint, Base.PipeEndpoint}, params::VSCodeServer.NotebookRunCellArguments)\n",
      "    @ VSCodeServer ~/.vscode/extensions/julialang.language-julia-1.4.3/scripts/packages/VSCodeServer/src/serve_notebook.jl:14\n",
      "  [9] dispatch_msg(x::VSCodeServer.JSONRPC.JSONRPCEndpoint{Base.PipeEndpoint, Base.PipeEndpoint}, dispatcher::VSCodeServer.JSONRPC.MsgDispatcher, msg::Dict{String, Any})\n",
      "    @ VSCodeServer.JSONRPC ~/.vscode/extensions/julialang.language-julia-1.4.3/scripts/packages/JSONRPC/src/typed.jl:67\n",
      " [10] serve_notebook(pipename::String; crashreporting_pipename::String)\n",
      "    @ VSCodeServer ~/.vscode/extensions/julialang.language-julia-1.4.3/scripts/packages/VSCodeServer/src/serve_notebook.jl:94\n",
      " [11] top-level scope\n",
      "    @ ~/.vscode/extensions/julialang.language-julia-1.4.3/scripts/notebook/notebook.jl:10\n",
      " [12] include(mod::Module, _path::String)\n",
      "    @ Base ./Base.jl:386\n",
      " [13] exec_options(opts::Base.JLOptions)\n",
      "    @ Base ./client.jl:285\n",
      " [14] _start()\n",
      "    @ Base ./client.jl:485"
     ]
    }
   ],
   "source": [
    "function my_trembling_hand_v2!(A, x::Vector{Point{d}}, w::Float64) where d\n",
    "\n",
    "    if d==1\n",
    "        N,n0 = size(A)\n",
    "        δ0 = 1.0./(n0-1.0)\n",
    "        for n in 1:N\n",
    "            x0 = x[n][1]\n",
    "            x0 = min.(max.(x0, 0.0),1.0)\n",
    "            q0 = div.(x0, δ0)\n",
    "            q0 = max.(0, q0)\n",
    "            q0 = min.(q0, n0-2)\n",
    "            λ0 = (x0./δ0-q0) # ∈[0,1[ by construction\n",
    "            q0_ = round.(Int,q0) + 1\n",
    "            A[n, q0_]   += (1-λ0)*w\n",
    "            A[n, q0_+1] += λ0*w\n",
    "        end\n",
    "    end\n",
    "\n",
    "    if d==2\n",
    "        N,n0,n1 = size(A)\n",
    "        δ = SVector{2,Float64}(1.0./(n0-1.0), 1.0./(n1-1.0))\n",
    "        for n in 1:N\n",
    "\n",
    "            xn = x[n]\n",
    "            xn = min.(max.(xn, 0.0),1.0)\n",
    "            qn = div.(xn, δ)\n",
    "            qn = max.(0, qn)\n",
    "            qn = min.(qn, n0-2)\n",
    "            λn = (xn./δ.-qn) # ∈[0,1[ by construction\n",
    "            qn_ = round.(Int,q0) + 1\n",
    "\n",
    "            q0_, q1_ = qn_[1], qn_[2]\n",
    "            λ0, λ1  = λn[1], λn[2]\n",
    "            A[n, q0_ ,  q1_] += (1-λ0)*(1-λ1)*w\n",
    "            A[n, q0_+1, q1_] += λ0*(1-λ1)*w\n",
    "            A[n, q0_, q1_+1] += (1-λ0)*λ1*w\n",
    "            A[n, q0_+1, q1_+1] += λ0*λ1*w\n",
    "        end\n",
    "    end\n",
    "\n",
    "end"
   ]
  },
  {
   "cell_type": "code",
   "execution_count": 79,
   "metadata": {},
   "outputs": [
    {
     "data": {
      "text/plain": [
       "2"
      ]
     },
     "metadata": {},
     "output_type": "display_data"
    }
   ],
   "source": [
    "exemple = size(A)\n",
    "length(exemple)"
   ]
  }
 ],
 "metadata": {
  "kernelspec": {
   "display_name": "Julia 1.6.3",
   "language": "julia",
   "name": "julia-1.6"
  },
  "language_info": {
   "file_extension": ".jl",
   "mimetype": "application/julia",
   "name": "julia",
   "version": "1.6.3"
  },
  "orig_nbformat": 4
 },
 "nbformat": 4,
 "nbformat_minor": 2
}
