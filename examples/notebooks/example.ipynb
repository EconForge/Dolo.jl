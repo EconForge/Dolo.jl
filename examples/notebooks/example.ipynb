{
 "cells": [
  {
   "cell_type": "code",
   "execution_count": 172,
   "metadata": {},
   "outputs": [
    {
     "data": {
      "text/plain": [
       "old (generic function with 2 methods)"
      ]
     },
     "metadata": {},
     "output_type": "display_data"
    }
   ],
   "source": [
    "function old(x::Int)\n",
    "    print(\"Old behavior\")\n",
    "end\n",
    "\n",
    "function new(x::Int)\n",
    "    print(\"New behavior\")\n",
    "end\n",
    "\n",
    "# Adding true/false argument doesn't change my observations.\n",
    "@deprecate old(x::Int) new(x::Int) false"
   ]
  },
  {
   "cell_type": "code",
   "execution_count": 173,
   "metadata": {},
   "outputs": [
    {
     "name": "stdout",
     "output_type": "stream",
     "text": [
      "New behavior"
     ]
    }
   ],
   "source": [
    "old(2)"
   ]
  },
  {
   "cell_type": "code",
   "execution_count": 8,
   "metadata": {},
   "outputs": [],
   "source": [
    "using StaticArrays\n",
    "using Dolo"
   ]
  },
  {
   "cell_type": "code",
   "execution_count": null,
   "metadata": {},
   "outputs": [],
   "source": [
    "A = Array{Float64,3}(undef, 2, 3, 2)\n",
    "x = [SVector{2,Float64}(3.4,4.7),SVector{2,Float64}(2.6,4.2)]\n",
    "w =1.0"
   ]
  },
  {
   "cell_type": "code",
   "execution_count": 48,
   "metadata": {},
   "outputs": [
    {
     "data": {
      "text/plain": [
       "fill_transition_matrix! (generic function with 1 method)"
      ]
     },
     "metadata": {},
     "output_type": "display_data"
    }
   ],
   "source": [
    "function fill_transition_matrix!(A,qn,λn,w,n)\n",
    "    shape_A = size(A)\n",
    "    dimension_A = ndims(A)\n",
    "    N = shape_A[1]\n",
    "    incremental_submatrix = zeros(N*2^(dimension_A-1))\n",
    "    for grid_dim in 1:dimension_A-1\n",
    "        incremental_submatrix[(multiply(shape_A[1:grid_dim])*(qn[grid_dim]-1)+1) : (multiply(shape_A[1:grid_dim])*(qn[grid_dim]))] .+= log(1-λn[grid_dim])\n",
    "        for jumps in 1:(multiply(shape_A[grid_dim+1:dimension_A])-1)\n",
    "            incremental_submatrix[(multiply(shape_A[1:grid_dim])*(qn[grid_dim]-1)+1 + multiply(shape_A[1:grid_dim+1])*jumps) : (multiply(shape_A[1:grid_dim])*(qn[grid_dim]) + multiply(shape_A[1:grid_dim+1])*jumps)] .+= log(1-λn[grid_dim])\n",
    "        end\n",
    "    end\n",
    "    incremental_submatrix = reshape(exp.(incremental_submatrix),shape_A)\n",
    "    A .+= incremental_submatrix\n",
    "end"
   ]
  },
  {
   "cell_type": "code",
   "execution_count": 2,
   "metadata": {},
   "outputs": [
    {
     "data": {
      "text/plain": [
       "multiply (generic function with 1 method)"
      ]
     },
     "metadata": {},
     "output_type": "display_data"
    }
   ],
   "source": [
    "function multiply(vector)\n",
    "    n = length(vector)\n",
    "    product = 1\n",
    "    for k in 1:n\n",
    "        product *= vector[k]\n",
    "    end\n",
    "    return product\n",
    "end"
   ]
  },
  {
   "cell_type": "code",
   "execution_count": 46,
   "metadata": {},
   "outputs": [
    {
     "data": {
      "text/plain": [
       "my_trembling_hand_v3! (generic function with 1 method)"
      ]
     },
     "metadata": {},
     "output_type": "display_data"
    }
   ],
   "source": [
    "function my_trembling_hand_v3!(A, x, w::Float64) \n",
    "    \n",
    "    shape_A = size(A)\n",
    "    grid_dimension = ndims(A)-1\n",
    "    print(typeof(grid_dimension))\n",
    "    δ = @SVector [1.0./(shape_A[1+i]-1) for i in 1:2]\n",
    "\n",
    "\n",
    "    for n in 1:shape_A[1]\n",
    "\n",
    "        xn = x[n]\n",
    "        xn = min.(max.(xn, 0.0),1.0)\n",
    "        qn = div.(xn, δ)\n",
    "        qn = max.(0, qn)\n",
    "        qn = min.(qn, shape_A[2:grid_dimension+1].-2)\n",
    "        λn = (xn./δ.-qn) # ∈[0,1[ by construction\n",
    "        qn_ = round.(Int,qn) + 1\n",
    "        \n",
    "        \n",
    "        fill_transition_matrix!(A,qn_,λn,w,n)\n",
    "        \n",
    "    end\n",
    "\n",
    "end"
   ]
  },
  {
   "cell_type": "code",
   "execution_count": 36,
   "metadata": {},
   "outputs": [
    {
     "data": {
      "text/plain": [
       "2-element SVector{2, Float64} with indices SOneTo(2):\n",
       " 0.5\n",
       " 1.0"
      ]
     },
     "metadata": {},
     "output_type": "display_data"
    }
   ],
   "source": [
    "truc = ndims(A)-1\n",
    "@SVector [1.0./(size(A)[1+i]-1) for i in 1:truc]"
   ]
  },
  {
   "cell_type": "code",
   "execution_count": 23,
   "metadata": {},
   "outputs": [
    {
     "data": {
      "text/plain": [
       "trembling_hand! (generic function with 1 method)"
      ]
     },
     "metadata": {},
     "output_type": "display_data"
    }
   ],
   "source": [
    "function trembling_hand!(A::AbstractArray{Float64,2}, x, w)\n",
    "    N,n0 = size(A)\n",
    "    δ0 = 1.0./(n0-1.0)\n",
    "    for n in 1:N\n",
    "        x0 = x[n][1]\n",
    "        x0 = min.(max.(x0, 0.0),1.0)\n",
    "        q0 = div.(x0, δ0)\n",
    "        q0 = max.(0, q0)\n",
    "        q0 = min.(q0, n0-2)\n",
    "        λ0 = (x0./δ0-q0) # ∈[0,1[ by construction\n",
    "        q0_ = round.(Int,q0) + 1\n",
    "        A[n, q0_]   += (1-λ0)*w\n",
    "        A[n, q0_+1] += λ0*w\n",
    "    end\n",
    "end"
   ]
  },
  {
   "cell_type": "code",
   "execution_count": 49,
   "metadata": {},
   "outputs": [
    {
     "ename": "BoundsError",
     "evalue": "BoundsError: attempt to access 8-element Vector{Float64} at index [9:10]",
     "output_type": "error",
     "traceback": [
      "BoundsError: attempt to access 8-element Vector{Float64} at index [9:10]\n",
      "\n",
      "Stacktrace:\n",
      "  [1] throw_boundserror(A::Vector{Float64}, I::Tuple{UnitRange{Int64}})\n",
      "    @ Base ./abstractarray.jl:651\n",
      "  [2] checkbounds\n",
      "    @ ./abstractarray.jl:616 [inlined]\n",
      "  [3] view\n",
      "    @ ./subarray.jl:177 [inlined]\n",
      "  [4] maybeview\n",
      "    @ ./views.jl:133 [inlined]\n",
      "  [5] dotview\n",
      "    @ ./broadcast.jl:1212 [inlined]\n",
      "  [6] fill_transition_matrix!(A::Array{Float64, 3}, qn::SVector{2, Int64}, λn::SVector{2, Float64}, w::Float64, n::Int64)\n",
      "    @ Main ~/.julia/dev/Dolo/examples/notebooks/example.ipynb:9\n",
      "  [7] my_trembling_hand_v3!(A::Array{Float64, 3}, x::Vector{SVector{2, Float64}}, w::Float64)\n",
      "    @ Main ~/.julia/dev/Dolo/examples/notebooks/example.ipynb:20\n",
      "  [8] top-level scope\n",
      "    @ ~/.julia/dev/Dolo/examples/notebooks/example.ipynb:1\n",
      "  [9] eval\n",
      "    @ ./boot.jl:360 [inlined]\n",
      " [10] include_string(mapexpr::typeof(REPL.softscope), mod::Module, code::String, filename::String)\n",
      "    @ Base ./loading.jl:1116\n",
      " [11] #invokelatest#2\n",
      "    @ ./essentials.jl:708 [inlined]\n",
      " [12] invokelatest\n",
      "    @ ./essentials.jl:706 [inlined]\n",
      " [13] (::VSCodeServer.var\"#146#147\"{VSCodeServer.NotebookRunCellArguments, String})()\n",
      "    @ VSCodeServer ~/.vscode/extensions/julialang.language-julia-1.5.6/scripts/packages/VSCodeServer/src/serve_notebook.jl:18\n",
      " [14] withpath(f::VSCodeServer.var\"#146#147\"{VSCodeServer.NotebookRunCellArguments, String}, path::String)\n",
      "    @ VSCodeServer ~/.vscode/extensions/julialang.language-julia-1.5.6/scripts/packages/VSCodeServer/src/repl.jl:185\n",
      " [15] notebook_runcell_request(conn::VSCodeServer.JSONRPC.JSONRPCEndpoint{Base.PipeEndpoint, Base.PipeEndpoint}, params::VSCodeServer.NotebookRunCellArguments)\n",
      "    @ VSCodeServer ~/.vscode/extensions/julialang.language-julia-1.5.6/scripts/packages/VSCodeServer/src/serve_notebook.jl:14\n",
      " [16] dispatch_msg(x::VSCodeServer.JSONRPC.JSONRPCEndpoint{Base.PipeEndpoint, Base.PipeEndpoint}, dispatcher::VSCodeServer.JSONRPC.MsgDispatcher, msg::Dict{String, Any})\n",
      "    @ VSCodeServer.JSONRPC ~/.vscode/extensions/julialang.language-julia-1.5.6/scripts/packages/JSONRPC/src/typed.jl:67\n",
      " [17] serve_notebook(pipename::String; crashreporting_pipename::String)\n",
      "    @ VSCodeServer ~/.vscode/extensions/julialang.language-julia-1.5.6/scripts/packages/VSCodeServer/src/serve_notebook.jl:94\n",
      " [18] top-level scope\n",
      "    @ ~/.vscode/extensions/julialang.language-julia-1.5.6/scripts/notebook/notebook.jl:12\n",
      " [19] include(mod::Module, _path::String)\n",
      "    @ Base ./Base.jl:386\n",
      " [20] exec_options(opts::Base.JLOptions)\n",
      "    @ Base ./client.jl:285\n",
      " [21] _start()\n",
      "    @ Base ./client.jl:485"
     ]
    }
   ],
   "source": [
    "my_trembling_hand_v3!(A,x,w)"
   ]
  },
  {
   "cell_type": "code",
   "execution_count": 85,
   "metadata": {},
   "outputs": [
    {
     "data": {
      "text/plain": [
       "my_trembling_hand_v2! (generic function with 1 method)"
      ]
     },
     "metadata": {},
     "output_type": "display_data"
    }
   ],
   "source": [
    "function my_trembling_hand_v1!(A, x, w::Float64) \n",
    "    d = length(x[1])\n",
    "    if d==1\n",
    "        N,n0 = size(A)\n",
    "        δ0 = 1.0./(n0-1.0)\n",
    "        for n in 1:N\n",
    "            x0 = x[n][1]\n",
    "            x0 = min.(max.(x0, 0.0),1.0)\n",
    "            q0 = div.(x0, δ0)\n",
    "            q0 = max.(0, q0)\n",
    "            q0 = min.(q0, n0-2)\n",
    "            λ0 = (x0./δ0-q0) # ∈[0,1[ by construction\n",
    "            q0_ = round.(Int,q0) + 1\n",
    "            A[n, q0_]   += (1-λ0)*w\n",
    "            A[n, q0_+1] += λ0*w\n",
    "        end\n",
    "    \n",
    "\n",
    "    elseif d==2\n",
    "        N,n0,n1 = size(A)\n",
    "        δ0 = 1.0./(n0-1.0)\n",
    "        δ1 = 1.0./(n1-1.0)\n",
    "        for n in 1:N\n",
    "            x0 = x[n][1]\n",
    "            x0 = min.(max.(x0, 0.0),1.0)\n",
    "            q0 = div.(x0, δ0)\n",
    "            q0 = max.(0, q0)\n",
    "            q0 = min.(q0, n0-2)\n",
    "            λ0 = (x0./δ0-q0) # ∈[0,1[ by construction\n",
    "            q0_ = round.(Int,q0) + 1\n",
    "\n",
    "            x1 = x[n][2]\n",
    "            x1 = min.(max.(x1, 0.0),1.0)\n",
    "            q1 = div.(x1, δ1)\n",
    "            q1 = max.(0, q1)\n",
    "            q1 = min.(q1, n1-2)\n",
    "            λ1 = (x1./δ1-q1) # ∈[0,1[ by construction\n",
    "            q1_ = round.(Int,q1) + 1\n",
    "\n",
    "            A[n, q0_ ,  q1_] += (1-λ0)*(1-λ1)*w\n",
    "            A[n, q0_+1, q1_] += λ0*(1-λ1)*w\n",
    "            A[n, q0_, q1_+1] += (1-λ0)*λ1*w\n",
    "            A[n, q0_+1, q1_+1] += λ0*λ1*w\n",
    "        end\n",
    "    \n",
    "    else \n",
    "        print(\"error : dimension > 2\")\n",
    "    end\n",
    "\n",
    "end\n",
    "\n",
    "function my_trembling_hand_v2!(A, x, w::Float64) \n",
    " \n",
    "    d = length(x[1])\n",
    "    if d==1\n",
    "        N,n0 = size(A)\n",
    "        δ0 = 1.0./(n0-1.0)\n",
    "        for n in 1:N\n",
    "            x0 = x[n][1]\n",
    "            x0 = min.(max.(x0, 0.0),1.0)\n",
    "            q0 = div.(x0, δ0)\n",
    "            q0 = max.(0, q0)\n",
    "            q0 = min.(q0, n0-2)\n",
    "            λ0 = (x0./δ0-q0) # ∈[0,1[ by construction\n",
    "            q0_ = round.(Int,q0) + 1\n",
    "            A[n, q0_]   += (1-λ0)*w\n",
    "            A[n, q0_+1] += λ0*w\n",
    "        end\n",
    "    \n",
    "\n",
    "    elseif d==2\n",
    "        N,n0,n1 = size(A)\n",
    "        vector_n = SVector{2,Float64}(n0,n1)\n",
    "        δ = SVector{2,Float64}(1.0./(n0-1.0), 1.0./(n1-1.0))\n",
    "        for n in 1:N\n",
    "\n",
    "            xn = x[n]\n",
    "            xn = min.(max.(xn, 0.0),1.0)\n",
    "            qn = div.(xn, δ)\n",
    "            qn = max.(0, qn)\n",
    "            qn = min.(qn, vector_n.-2)\n",
    "            λn = (xn./δ.-qn) # ∈[0,1[ by construction\n",
    "            qn_ = round.(Int,qn) + 1\n",
    "\n",
    "            q0_, q1_ = qn_[1], qn_[2]\n",
    "            λ0, λ1  = λn[1], λn[2]\n",
    "            A[n, q0_ ,  q1_] += (1-λ0)*(1-λ1)*w\n",
    "            A[n, q0_+1, q1_] += λ0*(1-λ1)*w\n",
    "            A[n, q0_, q1_+1] += (1-λ0)*λ1*w\n",
    "            A[n, q0_+1, q1_+1] += λ0*λ1*w\n",
    "        end\n",
    "    \n",
    "    else \n",
    "        print(\"error : dimension > 2\")\n",
    "    end\n",
    "\n",
    "end\n",
    "\n",
    "\n",
    "\n",
    "\n"
   ]
  },
  {
   "cell_type": "code",
   "execution_count": 88,
   "metadata": {},
   "outputs": [
    {
     "data": {
      "text/plain": [
       "(1.0, 0.0)"
      ]
     },
     "metadata": {},
     "output_type": "display_data"
    }
   ],
   "source": [
    "A = Array{Float64,3}(undef, 4, 3, 2)\n",
    "exemple = size(A)\n",
    "exemple[2:3].-2."
   ]
  },
  {
   "cell_type": "code",
   "execution_count": 111,
   "metadata": {},
   "outputs": [
    {
     "data": {
      "text/plain": [
       "(2, 3, 2)"
      ]
     },
     "metadata": {},
     "output_type": "display_data"
    }
   ],
   "source": [
    "truc = size(A)\n"
   ]
  },
  {
   "cell_type": "code",
   "execution_count": 97,
   "metadata": {},
   "outputs": [
    {
     "data": {
      "text/plain": [
       "3-element Vector{Int64}:\n",
       " 1\n",
       " 2\n",
       " 1"
      ]
     },
     "metadata": {},
     "output_type": "display_data"
    }
   ],
   "source": [
    "exemple2 = [2,1]\n",
    "#print(A)\n",
    "A[append!([1],exemple2)]\n",
    "append!([1],exemple2)"
   ]
  },
  {
   "cell_type": "code",
   "execution_count": 98,
   "metadata": {},
   "outputs": [
    {
     "data": {
      "text/plain": [
       "3-element Vector{Any}:\n",
       " 1\n",
       "  2:3\n",
       "  1:2"
      ]
     },
     "metadata": {},
     "output_type": "display_data"
    }
   ],
   "source": [
    "[1,1:3,1:2]\n",
    "#typeof(1:3)\n",
    "#UnitRange(1,3)\n",
    "#UnitRange.(exemple2,exemple2.+1)\n",
    "vcat([1],UnitRange.(exemple2,exemple2.+1))"
   ]
  },
  {
   "cell_type": "code",
   "execution_count": 100,
   "metadata": {},
   "outputs": [
    {
     "data": {
      "text/plain": [
       "Tuple{Int64, Int64, UnitRange{Int64}}"
      ]
     },
     "metadata": {},
     "output_type": "display_data"
    }
   ],
   "source": [
    "exemple3=[1]\n",
    "typeof(Tuple(x for x in vcat([1,2],UnitRange.(exemple3,exemple3.+1))))\n",
    "#A[Tuple(x for x in vcat([1,2],UnitRange.(exemple3,exemple3.+1)))]"
   ]
  },
  {
   "cell_type": "code",
   "execution_count": 108,
   "metadata": {},
   "outputs": [
    {
     "data": {
      "text/plain": [
       "2×3×2 Array{Float64, 3}:\n",
       "[:, :, 1] =\n",
       " 5.0e-324  1.5e-323  2.5e-323\n",
       " 1.0e-323  2.0e-323  3.0e-323\n",
       "\n",
       "[:, :, 2] =\n",
       " 3.5e-323  4.4e-323  1.0\n",
       " 4.0e-323  5.0e-323  1.0"
      ]
     },
     "metadata": {},
     "output_type": "display_data"
    }
   ],
   "source": [
    "A"
   ]
  }
 ],
 "metadata": {
  "kernelspec": {
   "display_name": "Julia 1.6.3",
   "language": "julia",
   "name": "julia-1.6"
  },
  "language_info": {
   "file_extension": ".jl",
   "mimetype": "application/julia",
   "name": "julia",
   "version": "1.6.3"
  },
  "orig_nbformat": 4
 },
 "nbformat": 4,
 "nbformat_minor": 2
}
