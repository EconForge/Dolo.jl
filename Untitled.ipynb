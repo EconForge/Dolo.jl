{
 "cells": [
  {
   "cell_type": "code",
   "execution_count": 1,
   "id": "answering-failure",
   "metadata": {},
   "outputs": [],
   "source": [
    "from dolo import *"
   ]
  },
  {
   "cell_type": "code",
   "execution_count": 2,
   "id": "competitive-advocate",
   "metadata": {},
   "outputs": [],
   "source": [
    "model = yaml_import(\"examples/models/rbc.yaml\")"
   ]
  },
  {
   "cell_type": "code",
   "execution_count": 5,
   "id": "broadband-fourth",
   "metadata": {},
   "outputs": [
    {
     "name": "stdout",
     "output_type": "stream",
     "text": [
      "CPU times: user 21.3 s, sys: 1.77 s, total: 23 s\n",
      "Wall time: 6.68 s\n"
     ]
    },
    {
     "data": {
      "text/plain": [
       "TimeIterationResult(dr=<dolo.numeric.decision_rule.DecisionRule object at 0x7f8f610826a0>, iterations=122, complementarities=True, dprocess=<dolo.numeric.processes.MarkovChain object at 0x7f8ee235c9d0>, x_converged=True, x_tol=1e-06, err=9.4666003735977e-07, log=None, trace=None)"
      ]
     },
     "execution_count": 5,
     "metadata": {},
     "output_type": "execute_result"
    }
   ],
   "source": [
    "%time time_iteration(model, verbose=False)"
   ]
  },
  {
   "cell_type": "code",
   "execution_count": null,
   "id": "auburn-absorption",
   "metadata": {},
   "outputs": [],
   "source": []
  }
 ],
 "metadata": {
  "kernelspec": {
   "display_name": "Python 3",
   "language": "python",
   "name": "python3"
  },
  "language_info": {
   "codemirror_mode": {
    "name": "ipython",
    "version": 3
   },
   "file_extension": ".py",
   "mimetype": "text/x-python",
   "name": "python",
   "nbconvert_exporter": "python",
   "pygments_lexer": "ipython3",
   "version": "3.8.5"
  }
 },
 "nbformat": 4,
 "nbformat_minor": 5
}
